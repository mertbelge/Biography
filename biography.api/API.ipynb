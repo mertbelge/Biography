{
 "cells": [
  {
   "cell_type": "code",
   "execution_count": 6,
   "id": "407a041c",
   "metadata": {},
   "outputs": [
    {
     "name": "stdout",
     "output_type": "stream",
     "text": [
      " * Serving Flask app '__main__'\n",
      " * Debug mode: on\n"
     ]
    },
    {
     "name": "stderr",
     "output_type": "stream",
     "text": [
      "WARNING: This is a development server. Do not use it in a production deployment. Use a production WSGI server instead.\n",
      " * Running on http://127.0.0.1:5000\n",
      "Press CTRL+C to quit\n",
      " * Restarting with watchdog (windowsapi)\n"
     ]
    },
    {
     "ename": "SystemExit",
     "evalue": "1",
     "output_type": "error",
     "traceback": [
      "An exception has occurred, use %tb to see the full traceback.\n",
      "\u001b[1;31mSystemExit\u001b[0m\u001b[1;31m:\u001b[0m 1\n"
     ]
    }
   ],
   "source": [
    "import pymysql\n",
    "from flask import Flask, jsonify, request\n",
    "\n",
    "app = Flask(__name__)\n",
    "\n",
    "@app.route('/whoisstarex', methods=['GET'])\n",
    "\n",
    "def biography():\n",
    "    try:\n",
    "        \n",
    "        db_connection = pymysql.connect(\n",
    "            host=\"94.55.216.168\",       # MySQL sunucusunun adresi (localhost veya IP)\n",
    "            user=\"starex\",            # MySQL kullanıcı adı\n",
    "            password=\"1234\",      # MySQL kullanıcı şifresi\n",
    "            database=\"WhoIsStarex\"  # Bağlanmak istediğiniz veritabanı adı\n",
    "        )\n",
    "\n",
    "        cursor = db_connection.cursor()\n",
    "\n",
    "        cursor.execute(\"SELECT MainName FROM MainTable\")\n",
    "        main_name = cursor.fetchall() \n",
    "        main_name = main_name[0][0]\n",
    "\n",
    "        cursor.execute(\"SELECT DescriptionFirst FROM MainTable\")\n",
    "        description_first = cursor.fetchall()\n",
    "        description_first = description_first[0][0]\n",
    "\n",
    "        cursor.execute(\"SELECT DescriptionSecond FROM MainTable\")\n",
    "        description_second = cursor.fetchall() \n",
    "        description_second = description_second[0][0]\n",
    "\n",
    "        cursor.execute(\"SELECT LinkedIn FROM MainTable\")\n",
    "        linkedin = cursor.fetchall() \n",
    "        linkedin = linkedin[0][0]\n",
    "\n",
    "        cursor.execute(\"SELECT Steam FROM MainTable\")\n",
    "        steam = cursor.fetchall()\n",
    "        steam= steam[0][0]\n",
    "\n",
    "        cursor.execute(\"SELECT Youtube FROM MainTable\")\n",
    "        youtube = cursor.fetchall()\n",
    "        youtube = youtube[0][0]\n",
    "\n",
    "        cursor.close()\n",
    "        db_connection.close()\n",
    "        \n",
    "        return jsonify({'main_name': main_name, \n",
    "                        'description_first': description_first,\n",
    "                        'description_second': description_second,\n",
    "                        'linkedin': linkedin,\n",
    "                        'steam': steam,\n",
    "                        'youtube': youtube})\n",
    "    \n",
    "    except Exception as e:\n",
    "        \n",
    "        return jsonify({'error': str(e)}), 400\n",
    "\n",
    "if __name__ == '__main__':\n",
    "    app.run(debug=True)"
   ]
  },
  {
   "cell_type": "code",
   "execution_count": 5,
   "id": "98259e13",
   "metadata": {},
   "outputs": [],
   "source": [
    "import pymysql\n",
    "        \n",
    "db_connection = pymysql.connect(\n",
    "        host=\"94.55.216.168\",       # MySQL sunucusunun adresi (localhost veya IP)\n",
    "        user=\"starex\",            # MySQL kullanıcı adı\n",
    "        password=\"1234\",      # MySQL kullanıcı şifresi\n",
    "        database=\"WhoIsStarex\"  # Bağlanmak istediğiniz veritabanı adı\n",
    "    )\n",
    "\n",
    "cursor = db_connection.cursor()\n",
    "\n",
    "cursor.execute(\"SELECT MainName FROM MainTable\")\n",
    "main_name = cursor.fetchall() \n",
    "main_name = main_name[0][0]\n",
    "\n",
    "cursor.execute(\"SELECT DescriptionFirst FROM MainTable\")\n",
    "description_first = cursor.fetchall()\n",
    "description_first = description_first[0][0]\n",
    "\n",
    "cursor.execute(\"SELECT DescriptionSecond FROM MainTable\")\n",
    "description_second = cursor.fetchall() \n",
    "description_second = description_second[0][0]\n",
    "\n",
    "cursor.execute(\"SELECT LinkedIn FROM MainTable\")\n",
    "linkedin = cursor.fetchall() \n",
    "linkedin = linkedin[0][0]\n",
    "\n",
    "cursor.execute(\"SELECT Steam FROM MainTable\")\n",
    "steam = cursor.fetchall()\n",
    "steam= steam[0][0]\n",
    "\n",
    "cursor.execute(\"SELECT Youtube FROM MainTable\")\n",
    "youtube = cursor.fetchall()\n",
    "youtube = youtube[0][0]\n",
    "\n",
    "cursor.close()\n",
    "db_connection.close()  \n"
   ]
  }
 ],
 "metadata": {
  "kernelspec": {
   "display_name": "Python 3 (ipykernel)",
   "language": "python",
   "name": "python3"
  },
  "language_info": {
   "codemirror_mode": {
    "name": "ipython",
    "version": 3
   },
   "file_extension": ".py",
   "mimetype": "text/x-python",
   "name": "python",
   "nbconvert_exporter": "python",
   "pygments_lexer": "ipython3",
   "version": "3.10.9"
  }
 },
 "nbformat": 4,
 "nbformat_minor": 5
}
